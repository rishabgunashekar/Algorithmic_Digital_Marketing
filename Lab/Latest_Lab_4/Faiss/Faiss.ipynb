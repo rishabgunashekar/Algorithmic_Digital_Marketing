{
 "cells": [
  {
   "cell_type": "code",
   "execution_count": 13,
   "metadata": {},
   "outputs": [
    {
     "name": "stdout",
     "output_type": "stream",
     "text": [
      "10\n"
     ]
    }
   ],
   "source": [
    "import faiss     \n",
    "import numpy as np\n",
    "# make faiss available\n",
    "xb = np.arange(100, dtype='float32').reshape(10,10) \n",
    "d=10\n",
    "index = faiss.IndexFlatL2(d)   # build the index, d=size of vectors \n",
    "# here we assume xb contains a n-by-d numpy matrix of type float32\n",
    "index.add(xb)                  # add vectors to the index\n",
    "print(index.ntotal)\n"
   ]
  },
  {
   "cell_type": "code",
   "execution_count": 16,
   "metadata": {},
   "outputs": [
    {
     "name": "stdout",
     "output_type": "stream",
     "text": [
      "[[0 1 2 3]]\n",
      "[[0 1 2 3]]\n"
     ]
    }
   ],
   "source": [
    "# xq is a n2-by-d matrix with query vectors\n",
    "xq = np.arange(10, dtype='float32').reshape(1,10) \n",
    "k = 4                          # we want 4 similar vectors\n",
    "D, I = index.search(xq, k)     # actual search\n",
    "print(I)\n",
    "# xq is a n2-by-d matrix with query vectors\n",
    "k = 4                          # we want 4 similar vectors\n",
    "D, I = index.search(xq, k)     # actual search\n",
    "print (I)"
   ]
  },
  {
   "cell_type": "code",
   "execution_count": null,
   "metadata": {},
   "outputs": [],
   "source": []
  }
 ],
 "metadata": {
  "kernelspec": {
   "display_name": "Python 3",
   "language": "python",
   "name": "python3"
  },
  "language_info": {
   "codemirror_mode": {
    "name": "ipython",
    "version": 3
   },
   "file_extension": ".py",
   "mimetype": "text/x-python",
   "name": "python",
   "nbconvert_exporter": "python",
   "pygments_lexer": "ipython3",
   "version": "3.8.5"
  }
 },
 "nbformat": 4,
 "nbformat_minor": 4
}
